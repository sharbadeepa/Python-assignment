{
 "cells": [
  {
   "cell_type": "code",
   "execution_count": 2,
   "metadata": {},
   "outputs": [
    {
     "name": "stdout",
     "output_type": "stream",
     "text": [
      "True\n",
      "False\n",
      "False\n",
      "True\n",
      "True\n",
      "True\n"
     ]
    }
   ],
   "source": [
    "#2nd sum\n",
    "\n",
    "import re\n",
    "nothing = r'\\A\\Z'\n",
    "something = r'\\w'\n",
    "anything = r'\\A\\Z|[\\w]'\n",
    "\n",
    "\n",
    "txt = bool(re.match(nothing, ''))\n",
    "txt_1 = bool(re.match(nothing, 'This is not a empty string'))\n",
    "txt_2 = bool(re.findall(something, ''))\n",
    "txt_3 = bool(re.findall(something, 'This is not a empty string'))\n",
    "txt_4 = bool(re.match(anything, ''))\n",
    "txt_5 = bool(re.match(anything, 'This is not a empty string'))\n",
    "print(txt)\n",
    "print(txt_1)\n",
    "print(txt_2)\n",
    "print(txt_3)\n",
    "print(txt_4)\n",
    "print(txt_5)\n",
    "\n"
   ]
  },
  {
   "cell_type": "code",
   "execution_count": 1,
   "metadata": {},
   "outputs": [
    {
     "name": "stdout",
     "output_type": "stream",
     "text": [
      "True\n",
      "True\n",
      "False\n",
      "False\n"
     ]
    }
   ],
   "source": [
    "#1st sum\n",
    "import re\n",
    "regex = '^[+-]?([0-9]+([\\.][0-9]*))$'\n",
    "\n",
    "\n",
    "\n",
    "\n",
    "result = bool(re.match(regex, '12.12'))\n",
    "result_1 = bool(re.match(regex, '+4.4'))\n",
    "result_2 = bool(re.match(regex, '+4'))\n",
    "result_3 = bool(re.match(regex, '+4.4av'))\n",
    "\n",
    "\n",
    "print(result)\n",
    "print(result_1)\n",
    "print(result_2)\n",
    "print(result_3)\n",
    "\n"
   ]
  },
  {
   "cell_type": "code",
   "execution_count": 4,
   "metadata": {},
   "outputs": [
    {
     "name": "stdout",
     "output_type": "stream",
     "text": [
      "['+2', '+7', '-88', '-34', '-5']\n",
      "['+123.45', '-.25', '-0.68']\n",
      "['+123', '+2', '+7']\n",
      "['-88', '-4', '-34', '-0', '--5']\n",
      "['.456', '+2', '+7', '-88', '.25', '.0', '-34', '.68', '-5']\n"
     ]
    }
   ],
   "source": [
    "#3rd sum\n",
    "\n",
    "import re\n",
    "txt = '+123.456 +2 +7 -88 -.25 -4.0  +-34 -0.68 --5'\n",
    "\n",
    "integers = r\"[+-.]?(?<!\\.)\\b[0-9]+\\b(?!\\.[0-9])\"\n",
    "float_num = r'[-+]?\\d*\\.\\d{2}'\n",
    "positive = r'[+]+[0-9]+'\n",
    "negative =  r'[-]+[0-9]+'\n",
    "numbers = r\"[-+.]?\\b[0-9]+\\b(?!\\.[0-9])\"\n",
    "\n",
    "find_int = re.findall(integers, txt)\n",
    "find_float = re.findall(float_num, txt)\n",
    "find_positive = re.findall(positive, txt)\n",
    "find_negative = re.findall(negative, txt)\n",
    "find_numbers = re.findall(numbers, txt)\n",
    "\n",
    "print(find_int)\n",
    "print(find_float)\n",
    "print(find_positive)\n",
    "print(find_negative)\n",
    "print(find_numbers)\n",
    "\n",
    "\n"
   ]
  },
  {
   "cell_type": "code",
   "execution_count": 5,
   "metadata": {},
   "outputs": [
    {
     "name": "stdout",
     "output_type": "stream",
     "text": [
      "09.00\n",
      "['00:56:41']\n",
      "['10:30', '11:00', '11:45', '11:75']\n"
     ]
    }
   ],
   "source": [
    "#4th sum\n",
    "\n",
    "import re\n",
    "txt1 = \"Breakfast at 09.00 in the room 123.456\"\n",
    "txt2 = \"The incident took place last wednesday at 00:56:41\"\n",
    "txt3 = \"we have two meetings form 10:30 to 11:00 and from 11:45 to 11:75.\"\n",
    "\n",
    "time = re.search('\\d{2}.\\d{2}', txt1)\n",
    "time_sec = re.findall('\\d{2}:\\d{2}:\\d{2}', txt2)\n",
    "time_new = re.findall('\\d{2}:\\d{2}', txt3)\n",
    "\n",
    "\n",
    "print(time.group())\n",
    "print(time_sec)\n",
    "print(time_new)\n",
    "\n"
   ]
  },
  {
   "cell_type": "code",
   "execution_count": 6,
   "metadata": {},
   "outputs": [
    {
     "name": "stdout",
     "output_type": "stream",
     "text": [
      "False\n",
      "False\n",
      "True\n"
     ]
    }
   ],
   "source": [
    "#5th sum\n",
    "\n",
    "import re\n",
    "num = r'([0-9])\\1{1}'\n",
    "\n",
    "\n",
    "res = bool(re.match(num, '123'))\n",
    "res_non = bool(re.match(num, '1025'))\n",
    "res_repeat = bool(re.match(num, '112233'))\n",
    "            \n",
    "\n",
    "print(res)\n",
    "print(res_non)\n",
    "print(res_repeat)\n",
    "\n"
   ]
  },
  {
   "cell_type": "code",
   "execution_count": null,
   "metadata": {},
   "outputs": [],
   "source": []
  }
 ],
 "metadata": {
  "kernelspec": {
   "display_name": "Python 3",
   "language": "python",
   "name": "python3"
  },
  "language_info": {
   "codemirror_mode": {
    "name": "ipython",
    "version": 3
   },
   "file_extension": ".py",
   "mimetype": "text/x-python",
   "name": "python",
   "nbconvert_exporter": "python",
   "pygments_lexer": "ipython3",
   "version": "3.7.3"
  }
 },
 "nbformat": 4,
 "nbformat_minor": 2
}
