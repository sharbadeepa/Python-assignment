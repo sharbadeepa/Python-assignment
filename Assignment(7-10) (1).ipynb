{
 "cells": [
  {
   "cell_type": "code",
   "execution_count": 3,
   "metadata": {},
   "outputs": [
    {
     "name": "stdout",
     "output_type": "stream",
     "text": [
      "Second number 3\n",
      "The index is not in the variable\n"
     ]
    }
   ],
   "source": [
    "#exception errors\n",
    "#arthimetic exception\n",
    "a = [1,2,3,4,5]\n",
    "try:\n",
    "    print(\"Second number\", a[2])\n",
    "    print(\"Fifth element\", a[5])\n",
    "except:\n",
    "    print(\"The index is not in the variable\")\n",
    "    \n"
   ]
  },
  {
   "cell_type": "code",
   "execution_count": 14,
   "metadata": {},
   "outputs": [
    {
     "name": "stdout",
     "output_type": "stream",
     "text": [
      "uuser value 6\n",
      "0000\n"
     ]
    }
   ],
   "source": [
    "#Assertion errors\n",
    "import math\n",
    "def aert(a):\n",
    "    a = int(input('uuser value '))\n",
    "    try:\n",
    "        if a == o:\n",
    "            print(\"inpute value is excepted value\")\n",
    "    except:\n",
    "        print(\"The value is not a excepted value\")\n",
    "aert(\"0\")\n",
    "    "
   ]
  },
  {
   "cell_type": "code",
   "execution_count": 16,
   "metadata": {},
   "outputs": [
    {
     "name": "stdout",
     "output_type": "stream",
     "text": [
      "This input for the figure out how the syntax error can be handled 7\n"
     ]
    }
   ],
   "source": [
    "# Syntax Error\n",
    "x = int(input(\"This input for the figure out how the syntax error can be handled \"))\n",
    "try:\n",
    "    whille x%2 == 0:\n",
    "        print(\"The given value is even\")\n",
    "except:\n",
    "    print(\"[wq[[-q]]]\")\n",
    "    "
   ]
  },
  {
   "cell_type": "code",
   "execution_count": 32,
   "metadata": {},
   "outputs": [
    {
     "ename": "SyntaxError",
     "evalue": "invalid syntax (<ipython-input-32-3dbc23199f54>, line 5)",
     "output_type": "error",
     "traceback": [
      "\u001b[0;36m  File \u001b[0;32m\"<ipython-input-32-3dbc23199f54>\"\u001b[0;36m, line \u001b[0;32m5\u001b[0m\n\u001b[0;31m    print(j*10)\u001b[0m\n\u001b[0m        ^\u001b[0m\n\u001b[0;31mSyntaxError\u001b[0m\u001b[0;31m:\u001b[0m invalid syntax\n"
     ]
    }
   ],
   "source": [
    "#EOF error\n",
    "def definition(b):\n",
    "    try:\n",
    "        j = int(input()\n",
    "        print(j*10)\n",
    "    except:\n",
    "        print(\"Please check all the lines there is syntax error\")\n",
    "definition(\"b\")\n"
   ]
  },
  {
   "cell_type": "code",
   "execution_count": 91,
   "metadata": {},
   "outputs": [
    {
     "name": "stdout",
     "output_type": "stream",
     "text": [
      "Please enter a number: 90\n"
     ]
    }
   ],
   "source": [
    "while True: \n",
    "    try:\n",
    "        x = int(input(\"Please enter a number: \"))      \n",
    "        break\n",
    "    except ValueError:\n",
    "        print(\"Oops!  That was no valid number.  Try again...\")\n"
   ]
  },
  {
   "cell_type": "code",
   "execution_count": 28,
   "metadata": {},
   "outputs": [
    {
     "name": "stdout",
     "output_type": "stream",
     "text": [
      "7\n",
      "70\n"
     ]
    }
   ],
   "source": []
  },
  {
   "cell_type": "code",
   "execution_count": 87,
   "metadata": {},
   "outputs": [
    {
     "name": "stdout",
     "output_type": "stream",
     "text": [
      "False\n",
      "Converting the value into input value 98\n",
      "98.0\n",
      "Sharbi\n",
      "982\n",
      "=== [False, True, True, True, False]\n",
      "[154, 134, 128]\n",
      "(0, 13)\n",
      "(1, 154)\n",
      "(2, 134)\n",
      "(3, 128)\n",
      "(4, 293)\n",
      "435\n",
      "True\n"
     ]
    }
   ],
   "source": [
    "#Build in functions\n",
    "# first\n",
    "call = callable(2)\n",
    "print(call)\n",
    "#second\n",
    "# converting the value the input to float\n",
    "x = int(input(\"Converting the value into input value \"))\n",
    "y = float(x)\n",
    "print(y)\n",
    "#third\n",
    "class Human:\n",
    "    name = 'Sharbi'\n",
    "    age = 23\n",
    "    Food = 'Rice'\n",
    "h1 = getattr(Human, 'name')\n",
    "print(h1)\n",
    "#Fourth\n",
    "#Evaluation\n",
    "x = eval('98' + '2')\n",
    "print(x)\n",
    "#Five\n",
    "list_new =[13,154,134,128,293]\n",
    "list_sec = [23,34,54,67,356]\n",
    "\n",
    "def new_fucntion(new):\n",
    "    if new % 2 == 0:\n",
    "        return True\n",
    "    return False\n",
    "f = filter(new_fucntion, list_new)\n",
    "\n",
    "y = list(map(new_fucntion, list_new))\n",
    "print(\"===\",y)\n",
    "new_iterator = list(f)\n",
    "# x = (filter(x%2== 0, list_new))\n",
    "print(new_iterator)\n",
    "#sixth\n",
    "# enumerate it gives the index value\n",
    "for i in enumerate(list_new):\n",
    "    print(i)\n",
    "#seventh\n",
    "import math\n",
    "a =247\n",
    "b = 435\n",
    "c = divmod(a,b)\n",
    "print(b)\n",
    "#eight\n",
    "#isinstance\n",
    "\n",
    "class company:\n",
    "    def __init__(self,name,city):\n",
    "        self.name = name\n",
    "        self.ct = city\n",
    "c1 = company('IG','Coimbatore')\n",
    "d1 = isinstance(c1, company)\n",
    "print(d1)\n",
    "\n",
    "#nine\n",
    "\n",
    "        "
   ]
  },
  {
   "cell_type": "code",
   "execution_count": 88,
   "metadata": {},
   "outputs": [
    {
     "name": "stdout",
     "output_type": "stream",
     "text": [
      "You are not eligible\n",
      "Name Sharba\n",
      "age 20\n",
      "Default value 20\n",
      "Default value 39\n",
      "a 20\n",
      "Variable length arguments 30 40 50 60\n",
      "first == Sharba\n",
      "mid == Deepa\n",
      "last == Palanisami\n",
      "You are now eligible to access this account\n",
      "Lesser than ten [1, 3, 5, 7, 9]\n",
      "Greater than ten [19]\n",
      "Current Letter : P\n",
      "Current Letter : y\n",
      "Current Letter : t\n",
      "Current Letter : o\n",
      "Current Letter : n\n",
      "Current variable value : 9\n",
      "Current variable value : 8\n",
      "Current variable value : 7\n",
      "Current variable value : 6\n",
      "Current variable value : 4\n",
      "Current variable value : 3\n",
      "Current variable value : 2\n",
      "Current variable value : 1\n",
      "Current variable value : 0\n",
      "Good bye!\n"
     ]
    }
   ],
   "source": [
    "\n",
    "\n",
    "#positional arguments\n",
    "def position(k,l):\n",
    "    #so i here pass two values but k was determined as 16 and l was taken as 23 that is positional arguments\n",
    "    if k > 18:\n",
    "        print(\"You are eligible to vote\")\n",
    "    else:\n",
    "        print(\"You are not eligible\")\n",
    "  \n",
    "position(16,23)\n",
    "#keyword arguments\n",
    "#so the keyword is given inside the function call if i change the position also the value will return correct value\n",
    "def key(name,age):\n",
    "    print(\"Name\", name)\n",
    "    print(\"age\", age)\n",
    "key(name='Sharba', age=20)\n",
    "#Default arguments\n",
    "#In this method for the attributes I can directly assign value if I didn't provide value it will take the default value\n",
    "def default(n=20):\n",
    "    print(\"Default value\",n)\n",
    "default()\n",
    "def default(n=20):\n",
    "    print(\"Default value\",n)\n",
    "default(39)\n",
    "#variable length arguments\n",
    "#*args *kwargs\n",
    "def keyword(a, *args):\n",
    "    print(\"a\",a)\n",
    "    print(\"Variable length arguments\", *args)\n",
    "keyword(20,30,40,50,60)\n",
    "def myFun(**kwargs):\n",
    "    for key, value in kwargs.items():\n",
    "        print (\"%s == %s\" %(key, value))\n",
    " \n",
    "\n",
    "myFun(first ='Sharba', mid ='Deepa', last='Palanisami')   \n",
    "\n",
    "\n",
    "\n",
    "\n",
    "\n",
    "\n",
    "#break\n",
    "#it will break from the loop itself when it meets the condition\n",
    "ten = []\n",
    "greater_ten = []\n",
    "\n",
    "for i in range(1, 50, 2):\n",
    "    if i <=10:\n",
    "        ten.append(i)\n",
    "    elif i == 18 or i > 18:\n",
    "        greater_ten.append(i)\n",
    "        print (\"You are now eligible to access this account\")\n",
    "        break\n",
    "print(\"Lesser than ten\",ten)\n",
    "print(\"Greater than ten\", greater_ten)\n",
    "\n",
    "#Continue\n",
    "#in the continue that will skip the particular letter or no and go for the next statement\n",
    "for letter in 'Python':     \n",
    "   if letter == 'h':\n",
    "      continue\n",
    "   print('Current Letter :', letter)\n",
    "\n",
    "var = 10                    \n",
    "while var > 0:              \n",
    "   var = var -1\n",
    "   if var == 5:\n",
    "      continue\n",
    "   print ('Current variable value :', var)\n",
    "print (\"Good bye!\")\n",
    "\n",
    "        \n",
    "        "
   ]
  },
  {
   "cell_type": "code",
   "execution_count": 89,
   "metadata": {},
   "outputs": [
    {
     "name": "stdout",
     "output_type": "stream",
     "text": [
      "0 1 2 3 4 5 6 7 8 9 10 11 0 1 2 3 4 5 6 7 8 9 10 11 12 0 1 2 3 4 5 6 7 8 9 10 11 12 13 0 1 2 3 4 5 6 7 8 9 10 11 12 13 14 15 1 1 1 1 1 1 \r\n",
      "2 2 2 2 2 \r\n",
      "3 3 3 3 \r\n",
      "4 4 4 \r\n",
      "5 5 \r\n",
      "6 \r\n",
      "0\n",
      "1\n",
      "2\n",
      "3\n",
      "4\n",
      "5\n",
      "6\n",
      "7\n",
      "8\n",
      "9\n",
      "10\n",
      "11\n",
      "12\n",
      "13\n",
      "14\n",
      "15\n",
      "16\n",
      "17\n",
      "18\n",
      "19\n",
      "20\n",
      "21\n",
      "22\n",
      "23\n",
      "24\n",
      "25\n",
      "26\n",
      "27\n",
      "28\n",
      "29\n"
     ]
    }
   ],
   "source": [
    "#for loop\n",
    "def loop_for(s):\n",
    "    for i in s:\n",
    "        for j in range(i):\n",
    "            print(j, end=\" \")\n",
    "loop_for([12,13,14,16])\n",
    "\n",
    "\n",
    "rows = 6\n",
    "b = 0\n",
    "for i in range(rows, 0, -1):\n",
    "    b +=1\n",
    "    for j in range(1, i+1):\n",
    "        print(b, end=\" \")\n",
    "    print('\\r')\n",
    "#while loop\n",
    "#in the while loop we need to add the increment operator\n",
    "n = 0\n",
    "while n <= 29:\n",
    "    print(n)\n",
    "    n = n+1\n",
    "k=0\n",
    "Real = [1,23,45,36]\n",
    "while k > 5:\n",
    "    for i in Real:\n",
    "        print(i)\n",
    "        if i > 30:\n",
    "            k = k+1           \n",
    "            print(\"HAHA\")\n",
    "        else:\n",
    "            print(\"NOO\")\n",
    "        \n",
    "\n",
    "\n"
   ]
  },
  {
   "cell_type": "code",
   "execution_count": 90,
   "metadata": {},
   "outputs": [
    {
     "name": "stdout",
     "output_type": "stream",
     "text": [
      "PSG\n",
      "GRD located in the Coimbatore fees for the Biotechnology is 1000000\n",
      "GRD located in the Coimbatore fees for the Biotechnology is 200000\n",
      "meow meow\n",
      "bow bow\n"
     ]
    }
   ],
   "source": [
    "#oops class\n",
    "\n",
    "class college:\n",
    "    #instance\n",
    "    def __init__(self,name,year,city, department, fees):\n",
    "        self.name =name\n",
    "        self.city = city\n",
    "        self.year = year\n",
    "        self.dep = department\n",
    "        self.__fees = 1000000\n",
    "    def dep_special(self):\n",
    "        print(\"{} located in the {} fees for the {} is {}\".format(self.name,self.city, self.dep,self.__fees))\n",
    "    def change_price(self, price):\n",
    "        self.__fees = price\n",
    "class students(college):\n",
    "    def __init__(self,name,year,city,department,fees):\n",
    "        super().__init__(name,year,city,department,fees)\n",
    "        \n",
    "\n",
    "#object and encapusulation\n",
    "c1 = college(\"GRD\", 1990, \"Coimbatore\", \"Biotechnology\", 100000)\n",
    "s1 = students('PSG', 1960, \"Coimbatore\",'CSE', 2500000)\n",
    "print(s1.name)\n",
    "c1.dep_special()\n",
    "#we can change the value for the private variable so we need to pass the attr for the function\n",
    "\n",
    "c1.__fees = 20000090\n",
    "c1.change_price(200000)\n",
    "c1.dep_special()\n",
    "\n",
    "\n",
    "#polymorphism\n",
    "class Cat:\n",
    "    def sound(self):\n",
    "        print(\"meow meow\")\n",
    "class dog:\n",
    "    def sound(self):\n",
    "        print(\"bow bow\")\n",
    "def testing(animal):\n",
    "    animal.sound()\n",
    "c1 = Cat()\n",
    "d1 = dog()\n",
    "testing(c1)\n",
    "testing(d1)\n",
    "\n"
   ]
  },
  {
   "cell_type": "code",
   "execution_count": null,
   "metadata": {},
   "outputs": [],
   "source": []
  }
 ],
 "metadata": {
  "kernelspec": {
   "display_name": "Python 3",
   "language": "python",
   "name": "python3"
  },
  "language_info": {
   "codemirror_mode": {
    "name": "ipython",
    "version": 3
   },
   "file_extension": ".py",
   "mimetype": "text/x-python",
   "name": "python",
   "nbconvert_exporter": "python",
   "pygments_lexer": "ipython3",
   "version": "3.7.3"
  }
 },
 "nbformat": 4,
 "nbformat_minor": 2
}
