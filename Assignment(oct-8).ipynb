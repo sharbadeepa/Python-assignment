{
 "cells": [
  {
   "cell_type": "code",
   "execution_count": 1,
   "metadata": {},
   "outputs": [
    {
     "name": "stdout",
     "output_type": "stream",
     "text": [
      "True\n",
      "True\n",
      "True\n",
      "False\n",
      "False\n"
     ]
    }
   ],
   "source": [
    "#1st sum\n",
    "def is_authetic_skewer(a):\n",
    "    lis1 = []\n",
    "    lis2 = []\n",
    "\n",
    "    vowels = ['A', 'E', 'I', 'O', 'U']\n",
    "    for i in a.split('__'):\n",
    "        lis1.append(i)       \n",
    "  \n",
    "    lis2 = lis1[1:-1] \n",
    "    for j,k in enumerate(lis2):\n",
    "        if j%2 == 0 or j==0:          \n",
    "            if lis1[-1] in vowels or lis1[0] in vowels or k not in vowels :\n",
    "                print(False)\n",
    "            else:\n",
    "                print(True)\n",
    "\n",
    "\n",
    "    \n",
    "is_authetic_skewer(\"B__A__N__A__N__A__S\")\n",
    "is_authetic_skewer(\"A__x__E\")\n",
    "is_authetic_skewer(\"C__L__A__P\")\n"
   ]
  },
  {
   "cell_type": "code",
   "execution_count": 2,
   "metadata": {},
   "outputs": [
    {
     "name": "stdout",
     "output_type": "stream",
     "text": [
      "False\n",
      "True\n",
      "True\n",
      "True\n",
      "True\n",
      "True\n"
     ]
    }
   ],
   "source": [
    "#6 th sum\n",
    "def is_valid_subsequence(a,b):\n",
    "    list_original = a\n",
    "    lis_sub = b\n",
    "    \n",
    "    if len(list_original) == len(lis_sub):\n",
    "        print (False)\n",
    "    elif len(lis_sub) < len(list_original):\n",
    "        for i in lis_sub:\n",
    "            if i in list_original:\n",
    "                print(True)\n",
    "is_valid_subsequence([1,1,6,1],[1,1,1,6])\n",
    "is_valid_subsequence([5,1,22,25,6,-1,8,10],[22,25,6])\n",
    "is_valid_subsequence([1,2,3,4],[2,4])\n",
    "\n"
   ]
  },
  {
   "cell_type": "code",
   "execution_count": 3,
   "metadata": {},
   "outputs": [
    {
     "name": "stdout",
     "output_type": "stream",
     "text": [
      "91\n",
      "5432\n",
      "5432\n",
      "98543\n"
     ]
    }
   ],
   "source": [
    "#4 th sum\n",
    "def next_number(a):\n",
    "    from itertools import permutations\n",
    "   \n",
    "    new = permutations(a)\n",
    "    premutated_format = (list(new))\n",
    "    res = [''.join(i) for i in premutated_format]\n",
    "\n",
    "    \n",
    "    print(max(res))\n",
    "    \n",
    "    \n",
    "next_number('19')  \n",
    "next_number('3542')\n",
    "next_number('5432')\n",
    "next_number('59348')\n"
   ]
  },
  {
   "cell_type": "code",
   "execution_count": 4,
   "metadata": {},
   "outputs": [
    {
     "name": "stdout",
     "output_type": "stream",
     "text": [
      "[4666, 5394, 466, 'sASKIA', 'DXTD', 'Lexi']\n",
      "['direction', 372, 'one', 'Era', 'Sruthi', 3337, 'First']\n"
     ]
    }
   ],
   "source": [
    "#3rd sum\n",
    "\n",
    "\n",
    "def flatten(n):\n",
    " \n",
    "    if not(bool(n)):\n",
    "        return n\n",
    " \n",
    "    if isinstance(n[0], list):\n",
    " \n",
    "        return flatten(*n[:1]) + flatten(n[1:])\n",
    " \n",
    "    \n",
    "    return n[:1] + flatten(n[1:])\n",
    " \n",
    " \n",
    "print(flatten([[4666], [5394], [466], [[[\"sASKIA\", [[[[[\"DXTD\"]], 'Lexi']]]]]]]))\n",
    "\n",
    "print(flatten([[[[[[\"direction\"],[372], ['one'], [[[[[['Era']]]], \"Sruthi\", 3337]]], \"First\"]]]]))\n",
    "\n"
   ]
  },
  {
   "cell_type": "code",
   "execution_count": 5,
   "metadata": {},
   "outputs": [
    {
     "name": "stdout",
     "output_type": "stream",
     "text": [
      "24Mohm+/-0.5%\n",
      "909Mohm+/-5%\n",
      "90k0hm+/-2% 25ppm/k\n"
     ]
    }
   ],
   "source": [
    "#5th sum\n",
    "import numpy as np\n",
    "\n",
    "def resistor_code(n, *args):\n",
    "    \n",
    "    a = np.array([['color', 'Digits', 'Magnitude', 'Tolerance', 'TCR'], ['Black', 0, 0, '-', '-'],\n",
    "                  ['Brown', 1, 1, '+/-1%', '100ppm/k'],['Red', 2, 2, '+/-2%', '50ppm/k'],['Orange', 3, 3, '-', '15ppm/k'],\n",
    "                  ['Yellow', 4, 4, '+/-1%', '25ppm/k'],['Green', 5, '-', '+/-0.5%', '-'],\n",
    "                  ['Blue', 6, 6, '+/-0.25%', '10ppm/k'],['Violet', 7, 7, '+/-0.1%', '5ppm/k'],\n",
    "                  ['Gray', 8, 8, '+/-0.05%', '-'],['White', 9, 9, '-', '-'],['Gold', 0, -1, '+/-5%', '-'],\n",
    "                  ['Sliver', -2, 0, '+/-10%', '-']])\n",
    "    b = [n,]\n",
    "    for i in args:\n",
    "        b.append(i)\n",
    "    if len(b) == 4:\n",
    "        red = a[3, 1]\n",
    "        yellow = a[5,1]\n",
    "        blue = a[7, 2]\n",
    "        green = a[6,3]\n",
    "        convert = 10**int(blue)\n",
    "        if convert >= 10000:\n",
    "            convert = 'Mohm'\n",
    "        final = red +yellow +str(convert)+ green \n",
    "        print(final)\n",
    "        \n",
    "    \n",
    "    elif len(b) == 5:\n",
    "        white = a[10,1]\n",
    "        black = a[1,1]\n",
    "        blue = a[7,2]\n",
    "        gold = a[11,3]\n",
    "        convert = 10**int(blue)\n",
    "        if convert >= 10000:\n",
    "            convert = 'Mohm'\n",
    "    \n",
    "        final = white + black + white + str(convert) + gold\n",
    "        \n",
    "        print(final)\n",
    "    elif len(b) == 6:\n",
    "        black = a[1,1]\n",
    "        white = a[10,1]\n",
    "        orange = a[4, 2]\n",
    "        red = a[3,3]\n",
    "        yellow = a[5,4]\n",
    "        convert = 10**int(orange)\n",
    "        if convert < 10000:\n",
    "            convert = 'k0hm'\n",
    "        final = white + black + str(convert) + red +\" \" + yellow\n",
    "        print(final)\n",
    "\n",
    "resistor_code('Red', 'Yellow', 'Blue','Green')\n",
    "resistor_code('White', 'Black', 'white','Blue', 'Gold')\n",
    "resistor_code('Black', 'White', 'Black','Orange', 'Red', 'Yellow')\n",
    "\n",
    "\n",
    "\n",
    "        \n",
    "        \n",
    "    \n"
   ]
  },
  {
   "cell_type": "code",
   "execution_count": 6,
   "metadata": {},
   "outputs": [
    {
     "name": "stdout",
     "output_type": "stream",
     "text": [
      "Requirement already satisfied: numpy in /home/sharbadeepa/snap/jupyter/common/lib/python3.7/site-packages (1.21.2)\n",
      "Note: you may need to restart the kernel to use updated packages.\n"
     ]
    }
   ],
   "source": [
    "pip install numpy"
   ]
  },
  {
   "cell_type": "code",
   "execution_count": 9,
   "metadata": {},
   "outputs": [
    {
     "name": "stdout",
     "output_type": "stream",
     "text": [
      "Enter the start value----> 1\n",
      "Enter the end value-----> 5\n",
      "1\n",
      "2\n",
      "3\n",
      "4\n",
      "None\n"
     ]
    }
   ],
   "source": [
    "\n",
    "def reversible_inclusive_list(a,b):\n",
    "    if a<b:\n",
    "        print(a)\n",
    "        reversible_inclusive_list(a+1,b)\n",
    "    elif a>b:\n",
    "        return (list(range(a,b-1,-1)))\n",
    "a=int(input(\"Enter the start value----> \"))\n",
    "b=int(input(\"Enter the end value-----> \"))\n",
    "print(reversible_inclusive_list(a,b))\n",
    "\n"
   ]
  },
  {
   "cell_type": "code",
   "execution_count": null,
   "metadata": {},
   "outputs": [],
   "source": []
  }
 ],
 "metadata": {
  "kernelspec": {
   "display_name": "Python 3",
   "language": "python",
   "name": "python3"
  },
  "language_info": {
   "codemirror_mode": {
    "name": "ipython",
    "version": 3
   },
   "file_extension": ".py",
   "mimetype": "text/x-python",
   "name": "python",
   "nbconvert_exporter": "python",
   "pygments_lexer": "ipython3",
   "version": "3.7.3"
  }
 },
 "nbformat": 4,
 "nbformat_minor": 2
}
